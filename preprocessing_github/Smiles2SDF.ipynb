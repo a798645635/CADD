{
 "cells": [
  {
   "cell_type": "code",
   "execution_count": 1,
   "metadata": {},
   "outputs": [],
   "source": [
    "from rdkit import Chem\n",
    "import pandas as pd"
   ]
  },
  {
   "cell_type": "code",
   "execution_count": 6,
   "metadata": {},
   "outputs": [],
   "source": [
    "path = r\"D:\\Users\\79864\\Desktop\\SQSAR\\ML\\Mobility shift assays.csv\"# csv文件路径\n",
    "smi_columnName = 'Smiles'   # Smiles列的列名\n",
    "# other_columnNames = ['active']\n",
    "other_columnNames = ['pIC50']\n",
    "# other_columnNames = ['ID','relation','IC50','Activity']   \n",
    "# 其他要保存在sdf文件的信息的列名(一个或多个都行，没有的话注释掉)\n"
   ]
  },
  {
   "cell_type": "code",
   "execution_count": 7,
   "metadata": {},
   "outputs": [
    {
     "name": "stdout",
     "output_type": "stream",
     "text": [
      "The SD file have been saved in \u001b[1mD:\\Users\\79864\\Desktop\\SQSAR\\ML\\Mobility shift assays.sdf\u001b[0m\n"
     ]
    }
   ],
   "source": [
    "def SmilesToSDF(path,smi_columnName='SMILES',other_columnNames=None):\n",
    "    \"\"\"将Smiles转成sdf文件\n",
    "        参数：\n",
    "        -----\n",
    "        path：csv文件路径\n",
    "        smi_columnName：Smiles列的列名\n",
    "        other_columnNames：其他要保存在sdf文件的信息的列名(一个或多个都行)\n",
    "        \n",
    "        例子：\n",
    "        -----\n",
    "        path = \"C:/OneDrive/Scholar/Data/sPLA2_558_conv.csv\"\n",
    "        smi_columnName = 'SMILES'\n",
    "        other_columnNames = ['Compound_ID','Activity']\n",
    "        SmilesToSDF(path,smi_columnName=smi_columnName,other_columnNames=other_columnNames)\"\"\"\n",
    "    data = pd.read_csv(path)\n",
    "    mols = []\n",
    "    new_smi = []\n",
    "    for i,smi in enumerate(data.loc[:,smi_columnName]):\n",
    "        m = Chem.MolFromSmiles(smi)\n",
    "        if m is not None:\n",
    "            m.SetProp('_Name',smi)\n",
    "            m.SetIntProp('init_index',i+1)\n",
    "            csmi = Chem.MolToSmiles(m)\n",
    "            m.SetProp('RDKit_Canonical_SMILES',csmi)\n",
    "            new_smi.append(csmi)\n",
    "            if other_columnNames is not None:\n",
    "                if type(other_columnNames) == str:\n",
    "                    other_columnNames = [other_columnNames]\n",
    "                for column in other_columnNames:\n",
    "                    column_value = data.loc[:,column][i]\n",
    "                    m.SetProp(column,str(column_value))\n",
    "\n",
    "            mols.append(m)\n",
    "        else:\n",
    "            print('The {}th smiles is invalid!!'.format(i+1))\n",
    "    out_path = path[:path.rfind('.')]+'.sdf'\n",
    "    wt = Chem.SDWriter(out_path)\n",
    "    for m in mols:\n",
    "        wt.write(m)\n",
    "    wt.close()\n",
    "    print('The SD file have been saved in \\033[1m{}\\033[0m'.format(out_path))\n",
    "#     out_path = path[:path.rfind('.')]+'.smi'\n",
    "#     with open(out_path,'w') as fobj:\n",
    "#         fobj.writelines([smi+'\\n' for smi in new_smi])\n",
    "#     print('The smi file have been saved in \\033[1m{}\\033[0m'.format(out_path))\n",
    "    \n",
    "SmilesToSDF(path,smi_columnName=smi_columnName,other_columnNames=other_columnNames)\n"
   ]
  },
  {
   "cell_type": "code",
   "execution_count": 22,
   "metadata": {},
   "outputs": [],
   "source": [
    "mol = Chem.MolFromSmiles(\"NC(=O)c1ncc(N2CCCC(NC=O)C2)nc1Nc1ccccc1\")\n"
   ]
  },
  {
   "cell_type": "code",
   "execution_count": 23,
   "metadata": {},
   "outputs": [
    {
     "name": "stdout",
     "output_type": "stream",
     "text": [
      "NC(=O)c1ncc(N2CCCC(NC=O)C2)nc1Nc1ccccc1\n",
      "[N]-[C](=[O])-[C]1:[N]:[C]:[C](-[N]2-[C]-[C]-[C]-[C](-[N]-[C]=[O])-[C]-2):[N]:[C]:1-[N]-[C]1:[C]:[C]:[C]:[C]:[C]:1\n"
     ]
    }
   ],
   "source": [
    "s = Chem.MolToSmarts(mol)\n",
    "smart = s.replace('#6', 'C').replace('#8', 'O').replace('#15', 'P').replace('#7', 'N')\n",
    "print(Chem.MolToSmiles(mol))\n",
    "\n",
    "print(smart)\n"
   ]
  }
 ],
 "metadata": {
  "interpreter": {
   "hash": "49b053aaa710f0e00fcf19d61f18f601538668544d149ba2483e3db8cc0b0054"
  },
  "kernelspec": {
   "display_name": "Python 3.7.13 64-bit ('association': conda)",
   "name": "python3"
  },
  "language_info": {
   "codemirror_mode": {
    "name": "ipython",
    "version": 3
   },
   "file_extension": ".py",
   "mimetype": "text/x-python",
   "name": "python",
   "nbconvert_exporter": "python",
   "pygments_lexer": "ipython3",
   "version": "3.7.13"
  }
 },
 "nbformat": 4,
 "nbformat_minor": 2
}
