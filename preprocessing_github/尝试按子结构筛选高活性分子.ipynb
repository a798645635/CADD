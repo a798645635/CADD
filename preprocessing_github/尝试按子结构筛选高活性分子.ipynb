{
 "cells": [
  {
   "cell_type": "code",
   "execution_count": 3,
   "metadata": {},
   "outputs": [],
   "source": [
    "from pathlib import Path\n",
    "\n",
    "import pandas as pd\n",
    "from tqdm.auto import tqdm\n",
    "from rdkit import Chem\n",
    "from rdkit.Chem import PandasTools\n",
    "from rdkit.Chem.FilterCatalog import FilterCatalog, FilterCatalogParams\n",
    "import pathlib as path\n"
   ]
  },
  {
   "cell_type": "code",
   "execution_count": 5,
   "metadata": {},
   "outputs": [],
   "source": [
    "P=path.PureWindowsPath(r\"D:\\Users\\79864\\Desktop\\毕业论文——BTK\\数据预处理\\03input\\筛选总表04_qsar.csv\")\n",
    "egfr_data=pd.read_csv(P)"
   ]
  },
  {
   "cell_type": "code",
   "execution_count": null,
   "metadata": {},
   "outputs": [],
   "source": [
    "# # initialize filter\n",
    "# params = FilterCatalogParams()\n",
    "# params.AddCatalog(FilterCatalogParams.FilterCatalogs.PAINS)\n",
    "# catalog = FilterCatalog(params)\n",
    "# # search for PAINS\n",
    "# matches = []\n",
    "# matches_index=[]\n",
    "# clean = []\n",
    "# for index, row in tqdm(egfr_data.iterrows(), total=egfr_data.shape[0]):\n",
    "#     molecule = Chem.MolFromSmiles(row.SMILES)\n",
    "#     entry = catalog.GetFirstMatch(molecule)  # Get the first matching PAINS\n",
    "#     if entry is not None:\n",
    "#         # store PAINS information\n",
    "#         matches.append(\n",
    "#             {\n",
    "\n",
    "#                 \"rdkit_molecule\": molecule,\n",
    "#                 \"pains\": entry.GetDescription().capitalize(),\n",
    "#             }\n",
    "#         )\n",
    "#         matches_index.append(index)\n",
    "#     else:\n",
    "#         # collect indices of molecules without PAINS\n",
    "#         clean.append(index)\n",
    "\n",
    "# matches = pd.DataFrame(matches)\n",
    "# egfr_data_pains = egfr_data.loc[clean]  # keep molecules without PAINS\n",
    "# substructure_data = egfr_data.loc[matches_index]\n",
    "# print(f\"Number of compounds with PAINS: {len(matches)}\")\n",
    "# print(f\"Number of compounds without PAINS: {len(egfr_data_pains)}\")\n",
    "# substructure_data.to_csv(P.parents[0].joinpath(P.stem+\"含pains.csv\"),index=None,columns=[\"SMILES\",\"active\"])"
   ]
  },
  {
   "cell_type": "code",
   "execution_count": null,
   "metadata": {},
   "outputs": [
    {
     "data": {
      "image/png": "[encoded data removed]",
      "text/plain": [
       "<IPython.core.display.Image object>"
      ]
     },
     "execution_count": 46,
     "metadata": {},
     "output_type": "execute_result"
    }
   ],
   "source": [
    "# Add molecule column\n",
    "PandasTools.AddMoleculeColumnToFrame(egfr_data, smilesCol=\"SMILES\")\n",
    "# Draw first 3 molecules\n",
    "Chem.Draw.MolsToGridImage(\n",
    "    list(egfr_data.head(3).ROMol),\n",
    "    \n",
    ")"
   ]
  },
  {
   "cell_type": "code",
   "execution_count": null,
   "metadata": {},
   "outputs": [],
   "source": [
    "# substructures=[\"[!#6;!#1]~*(~[!#6;!#1])~[!#6;!#1]\",\"C#C-[CX3]=[OX1-0]\",\"C(#C-[CX3]=[OX1-0])-[CD1H3]\",\n",
    "# \"A-S(-[CD2H1]=[CD1H2])=[OX1-0]\",\"[S;H1]\",\"[C,O]-1-[C,O]-[CD3H1]1-[CD3H0](-[CX4])=[OX1-0]\",\n",
    "# \"[CD2H2](-[CX3]=[OX1-0])-[F,Cl,Br,I]\"]\n",
    "\n",
    "# substructures=pd.DataFrame(substructures,columns=['smarts'])\n",
    "# substructures[\"rdkit_molecule\"] = substructures.smarts.apply(Chem.MolFromSmarts)\n",
    "# m = substructures.smarts.apply(Chem.MolFromSmarts)\n",
    "# m.apply(lambda x: x.UpdatePropertyCache(strict=False))"
   ]
  },
  {
   "cell_type": "code",
   "execution_count": null,
   "metadata": {},
   "outputs": [],
   "source": [
    "# Chem.Draw.MolsToGridImage(\n",
    "#     mols=m.tolist()[0:7],\n",
    "\n",
    "# )"
   ]
  },
  {
   "cell_type": "code",
   "execution_count": 6,
   "metadata": {},
   "outputs": [],
   "source": [
    "substructures=[\"[CX3]=[CX3]-[CX3]=[OX1-0]\",\"C#C-[CX3]=[OX1-0]\",\"C(#C-[CX3]=[OX1-0])-[CD1H3]\",\n",
    "\"A-S(-[CD2H1]=[CD1H2])=[OX1-0]\",\"[S;H1]\",\"[C,O]-1-[C,O]-[CD3H1]1-[CD3H0](-[CX4])=[OX1-0]\",\n",
    "\"[CD2H2](-[CX3]=[OX1-0])-[F,Cl,Br,I]\"]\n",
    "\n",
    "l = list(map(lambda x: Chem.MolFromSmarts(x), substructures))\n",
    "# substructures[\"rdkit_molecule\"] = list(map(lambda x: Chem.MolFromSmarts(x), substructures))"
   ]
  },
  {
   "cell_type": "code",
   "execution_count": 7,
   "metadata": {},
   "outputs": [
    {
     "name": "stderr",
     "output_type": "stream",
     "text": [
      "100%|██████████| 3546/3546 [00:01<00:00, 2544.92it/s]\n"
     ]
    }
   ],
   "source": [
    "# search for unwanted substructure\n",
    "matches = []\n",
    "matches_index=[]\n",
    "clean = []\n",
    "for index, row in tqdm(egfr_data.iterrows(), total=egfr_data.shape[0]):\n",
    "    molecule = Chem.MolFromSmiles(row.SMILES)\n",
    "    match = False\n",
    "    for substructure in l:\n",
    "        if molecule.HasSubstructMatch(substructure):\n",
    "            matches.append(\n",
    "                {\n",
    "\n",
    "                    \"rdkit_molecule\": molecule,\n",
    "                    \"substructure\": substructures,\n",
    "\n",
    "                }\n",
    "            )\n",
    "            matches_index.append(index)\n",
    "            match = True\n",
    "    if not match:\n",
    "        clean.append(index)\n",
    "\n",
    "matches = pd.DataFrame(matches)\n",
    "substructure_data = egfr_data.loc[matches_index]\n",
    "NOT_matches_data = egfr_data.loc[clean]"
   ]
  },
  {
   "cell_type": "code",
   "execution_count": null,
   "metadata": {},
   "outputs": [],
   "source": []
  },
  {
   "cell_type": "code",
   "execution_count": 8,
   "metadata": {},
   "outputs": [
    {
     "name": "stdout",
     "output_type": "stream",
     "text": [
      "Number of found unwanted substructure: 1635\n",
      "Number of compounds without unwanted substructure: 1988\n"
     ]
    }
   ],
   "source": [
    "# NBVAL_CHECK_OUTPUT\n",
    "print(f\"Number of found unwanted substructure: {len(substructure_data)}\")\n",
    "print(f\"Number of compounds without unwanted substructure: {len(NOT_matches_data)}\")"
   ]
  },
  {
   "cell_type": "code",
   "execution_count": 9,
   "metadata": {},
   "outputs": [],
   "source": [
    "NOT_matches_data.to_csv(P.parents[0].joinpath(P.stem+\"不含子结构.csv\"),index=None,columns=[\"SMILES\",\"active\",\"测活方法\",\"Links\",\"Structure: Image\"])\n",
    "#NOT_matches_data.to_csv(P.parents[0].joinpath(P.stem+\"不含子结构.csv\"),index=None,columns=[\"SMILES\"])"
   ]
  },
  {
   "cell_type": "code",
   "execution_count": 10,
   "metadata": {},
   "outputs": [],
   "source": [
    "substructure_data.to_csv(P.parents[0].joinpath(P.stem+\"含子结构.csv\"),index=None,columns=[\"SMILES\",\"active\",\"测活方法\",\"Links\"])\n",
    "# substructure_data.to_csv(P.parents[0].joinpath(P.stem+\"含子结构.csv\"),index=None,columns=[\"SMILES\"])"
   ]
  },
  {
   "cell_type": "code",
   "execution_count": null,
   "metadata": {},
   "outputs": [],
   "source": [
    "# smiles=mol.apply(lambda x : Chem.MolToSmiles(x))"
   ]
  }
 ],
 "metadata": {
  "interpreter": {
   "hash": "46655e3d8ef3d7b0c13b0e6b9f81423f704e3897e59c0706a402a2b9187a774f"
  },
  "kernelspec": {
   "display_name": "Python 3.7.12 64-bit ('deepchem': conda)",
   "name": "python3"
  },
  "language_info": {
   "codemirror_mode": {
    "name": "ipython",
    "version": 3
   },
   "file_extension": ".py",
   "mimetype": "text/x-python",
   "name": "python",
   "nbconvert_exporter": "python",
   "pygments_lexer": "ipython3",
   "version": "3.7.12"
  },
  "orig_nbformat": 4
 },
 "nbformat": 4,
 "nbformat_minor": 2
}
