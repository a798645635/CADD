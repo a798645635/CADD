{
 "cells": [
  {
   "cell_type": "code",
   "execution_count": 11,
   "metadata": {},
   "outputs": [],
   "source": [
    "import pandas as pd\n",
    "data=pd.read_csv(r\"D:\\Users\\79864\\Desktop\\描述符\\100-500_描述符划分\\som划分\\筛选总表02residue_data100_500_MACCSKeysFingerprint_SingletaskStratifiedSplitter_task_number_1_tr描述符缩减至70.csv\")"
   ]
  },
  {
   "cell_type": "code",
   "execution_count": 12,
   "metadata": {},
   "outputs": [],
   "source": [
    "边界化合物=[\"N#Cc1ccnc(N)c1\",\n",
    "\"CC1=CC(C)=[N+]2C1=Cc1ccc(CCC(=O)NCCN3CCN(CC=CC(=O)N4CCCC(n5nc(C(=O)Nc6nc7ccccc7o6)c6c(N)ncnc65)C4)CC3)n1[B-]2(F)F\",\n",
    "\"NC(=O)C1CCNC(=O)C(CCCNC(=O)c2cnccn2)NC(=O)C(Cc2ccco2)NC(=O)C(CC2CC2)NC(=O)C=CC(=O)N1\",\n",
    "\"Nc1ncc(-c2ccc(Oc3ccccc3)cc2)c2scc(-c3ccc(Oc4ccccc4)cc3)c12\",\n",
    "\"COCCBr\",\n",
    "\"Nc1ncnc2c1c(C(=O)Nc1nc3ccccc3o1)nn2C1CCCN(C(=O)C=CCN2CCN(CCNC(=O)CCCCC3SCC4NC(=O)NC43)CC2)C1\",\n",
    "]"
   ]
  },
  {
   "cell_type": "code",
   "execution_count": 13,
   "metadata": {},
   "outputs": [
    {
     "data": {
      "text/plain": [
       "X23      int64\n",
       "X26      int64\n",
       "X35      int64\n",
       "X38      int64\n",
       "X39      int64\n",
       "         ...  \n",
       "X160     int64\n",
       "X161     int64\n",
       "y        int64\n",
       "w1       int64\n",
       "ids     object\n",
       "Length: 73, dtype: object"
      ]
     },
     "execution_count": 13,
     "metadata": {},
     "output_type": "execute_result"
    }
   ],
   "source": [
    "data.dtypes"
   ]
  },
  {
   "cell_type": "code",
   "execution_count": 14,
   "metadata": {},
   "outputs": [],
   "source": [
    "list_data=data.values.flatten().tolist()"
   ]
  },
  {
   "cell_type": "code",
   "execution_count": 15,
   "metadata": {},
   "outputs": [
    {
     "name": "stdout",
     "output_type": "stream",
     "text": [
      "1\n",
      "1\n",
      "1\n",
      "1\n",
      "1\n",
      "1\n"
     ]
    }
   ],
   "source": [
    "for i in 边界化合物:\n",
    "    if i in list_data:\n",
    "        print(1)\n",
    "    else :\n",
    "        print(i)"
   ]
  }
 ],
 "metadata": {
  "interpreter": {
   "hash": "46655e3d8ef3d7b0c13b0e6b9f81423f704e3897e59c0706a402a2b9187a774f"
  },
  "kernelspec": {
   "display_name": "Python 3.7.12 64-bit ('deepchem': conda)",
   "name": "python3"
  },
  "language_info": {
   "codemirror_mode": {
    "name": "ipython",
    "version": 3
   },
   "file_extension": ".py",
   "mimetype": "text/x-python",
   "name": "python",
   "nbconvert_exporter": "python",
   "pygments_lexer": "ipython3",
   "version": "3.7.12"
  },
  "orig_nbformat": 4
 },
 "nbformat": 4,
 "nbformat_minor": 2
}
