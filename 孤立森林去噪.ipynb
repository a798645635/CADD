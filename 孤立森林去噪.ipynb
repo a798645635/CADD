{
 "cells": [
  {
   "cell_type": "code",
   "execution_count": 21,
   "metadata": {},
   "outputs": [],
   "source": [
    "import pandas as pd\n",
    "import numpy as np\n",
    "import pathlib as path\n",
    "from DataNormalize import DataNormalize\n",
    "from sklearn.ensemble import IsolationForest"
   ]
  },
  {
   "cell_type": "code",
   "execution_count": 17,
   "metadata": {},
   "outputs": [],
   "source": [
    "path_init=path.PureWindowsPath(r\"D:\\wenku\\geixuedi\\03建模\\SQSAR\\ML\\TR-FRET CORINA_denoise.csv\")\n",
    "init_df = pd.read_csv(path_init)\n"
   ]
  },
  {
   "cell_type": "code",
   "execution_count": 18,
   "metadata": {},
   "outputs": [],
   "source": [
    "all_df = init_df.loc[:,'labels':'XlogP']\n",
    "all_df.drop(columns=['som'], inplace=True)\n",
    "tr_x = all_df.iloc[:,1:]\n",
    "tr_y = all_df.iloc[:,0]"
   ]
  },
  {
   "cell_type": "code",
   "execution_count": 19,
   "metadata": {},
   "outputs": [],
   "source": [
    "normalizer = DataNormalize(norm_type='min_max')\n",
    "tr_scaled_x =normalizer.fit_transform(tr_x)"
   ]
  },
  {
   "cell_type": "code",
   "execution_count": 22,
   "metadata": {},
   "outputs": [],
   "source": [
    "# 使用孤立森林模型进行异常值检测\n",
    "clf = IsolationForest(contamination=0.1) # contamination参数可以调整以控制被认为是异常值的比例\n",
    "clf.fit(tr_scaled_x)\n",
    "if_scores = clf.decision_function(tr_scaled_x)\n",
    "if_anomalies = clf.predict(tr_scaled_x)\n",
    "\n",
    "# 将异常值标签添加到数据集中\n",
    "tr_x['ifNoise'] = if_anomalies == -1"
   ]
  },
  {
   "cell_type": "code",
   "execution_count": 24,
   "metadata": {},
   "outputs": [
    {
     "ename": "NameError",
     "evalue": "name 'init_df0' is not defined",
     "output_type": "error",
     "traceback": [
      "\u001b[1;31m---------------------------------------------------------------------------\u001b[0m",
      "\u001b[1;31mNameError\u001b[0m                                 Traceback (most recent call last)",
      "\u001b[1;32mC:\\Users\\Public\\Documents\\Wondershare\\CreatorTemp\\ipykernel_28212\\3128245847.py\u001b[0m in \u001b[0;36m<module>\u001b[1;34m\u001b[0m\n\u001b[1;32m----> 1\u001b[1;33m \u001b[0minit_df1\u001b[0m \u001b[1;33m=\u001b[0m \u001b[0minit_df0\u001b[0m\u001b[1;33m.\u001b[0m\u001b[0mloc\u001b[0m\u001b[1;33m[\u001b[0m\u001b[0mifNoise\u001b[0m\u001b[1;33m==\u001b[0m\u001b[1;32mFalse\u001b[0m\u001b[1;33m,\u001b[0m\u001b[1;33m:\u001b[0m\u001b[1;33m]\u001b[0m\u001b[1;33m\u001b[0m\u001b[1;33m\u001b[0m\u001b[0m\n\u001b[0m\u001b[0;32m      2\u001b[0m \u001b[0minit_df1\u001b[0m\u001b[1;33m.\u001b[0m\u001b[0mto_csv\u001b[0m\u001b[1;33m(\u001b[0m\u001b[1;33m(\u001b[0m\u001b[0mfile_name\u001b[0m \u001b[1;33m+\u001b[0m\u001b[1;34m\"_denoise.csv\"\u001b[0m\u001b[1;33m)\u001b[0m\u001b[1;33m,\u001b[0m\u001b[0mindex\u001b[0m\u001b[1;33m=\u001b[0m\u001b[1;32mFalse\u001b[0m\u001b[1;33m)\u001b[0m\u001b[1;33m\u001b[0m\u001b[1;33m\u001b[0m\u001b[0m\n",
      "\u001b[1;31mNameError\u001b[0m: name 'init_df0' is not defined"
     ]
    }
   ],
   "source": [
    "init_df1 = init_df0.loc[ifNoise==False,:]\n",
    "init_df1.to_csv((file_name +\"_denoise.csv\"),index=False)"
   ]
  }
 ],
 "metadata": {
  "interpreter": {
   "hash": "49b053aaa710f0e00fcf19d61f18f601538668544d149ba2483e3db8cc0b0054"
  },
  "kernelspec": {
   "display_name": "Python 3.7.13 64-bit ('association': conda)",
   "name": "python3"
  },
  "language_info": {
   "codemirror_mode": {
    "name": "ipython",
    "version": 3
   },
   "file_extension": ".py",
   "mimetype": "text/x-python",
   "name": "python",
   "nbconvert_exporter": "python",
   "pygments_lexer": "ipython3",
   "version": "3.7.13"
  },
  "orig_nbformat": 4
 },
 "nbformat": 4,
 "nbformat_minor": 2
}
